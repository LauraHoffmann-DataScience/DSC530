{
 "cells": [
  {
   "cell_type": "markdown",
   "metadata": {},
   "source": [
    "## Course: DSC530\n",
    "## Assignment: 4.2, Probability Mass Functions and Cumulative Distribution Functions\n",
    "## Name: Laura Hoffmann\n",
    "## Date: 9/25/2020"
   ]
  },
  {
   "cell_type": "markdown",
   "metadata": {},
   "source": [
    "## Setup"
   ]
  },
  {
   "cell_type": "code",
   "execution_count": 1,
   "metadata": {},
   "outputs": [],
   "source": [
    "from __future__ import print_function, division\n",
    "\n",
    "import numpy as np\n",
    "\n",
    "import nsfg\n",
    "import first\n",
    "import thinkstats2\n",
    "import thinkplot\n",
    "import random"
   ]
  },
  {
   "cell_type": "markdown",
   "metadata": {},
   "source": [
    "# 3-1"
   ]
  },
  {
   "cell_type": "markdown",
   "metadata": {},
   "source": [
    "### Use the NSFG respondent variable NUMKDHH to construct the actual distribution for the number of children under 18 in the respondents' households."
   ]
  },
  {
   "cell_type": "code",
   "execution_count": 2,
   "metadata": {},
   "outputs": [
    {
     "data": {
      "image/png": "[encoded data removed]",
      "text/plain": [
       "<Figure size 432x288 with 1 Axes>"
      ]
     },
     "metadata": {
      "needs_background": "light"
     },
     "output_type": "display_data"
    }
   ],
   "source": [
    "resp = nsfg.ReadFemResp()\n",
    "PMF = thinkstats2.Pmf(resp.numkdhh, label='NUMKDHH')\n",
    "thinkplot.Pmf(PMF)\n",
    "thinkplot.Config(xlabel='Number of children', ylabel='PMF')"
   ]
  },
  {
   "cell_type": "markdown",
   "metadata": {},
   "source": [
    "### Now compute the biased distribution we would see if we surveyed the children and asked them how many children under 18 (including themselves) are in their household.\n",
    "\n",
    "### Plot the actual and biased distributions, and compute their means."
   ]
  },
  {
   "cell_type": "code",
   "execution_count": 3,
   "metadata": {},
   "outputs": [],
   "source": [
    "def BiasPmf(pmf, label=''):\n",
    "    new_pmf = pmf.Copy(label=label)\n",
    "\n",
    "    for x, p in pmf.Items():\n",
    "        new_pmf.Mult(x, x)\n",
    "        \n",
    "    new_pmf.Normalize()\n",
    "    return new_pmf"
   ]
  },
  {
   "cell_type": "code",
   "execution_count": 4,
   "metadata": {},
   "outputs": [
    {
     "name": "stdout",
     "output_type": "stream",
     "text": [
      "1.024205155043831\n",
      "2.403679100664282\n"
     ]
    },
    {
     "data": {
      "image/png": "[encoded data removed]",
      "text/plain": [
       "<Figure size 432x288 with 1 Axes>"
      ]
     },
     "metadata": {
      "needs_background": "light"
     },
     "output_type": "display_data"
    }
   ],
   "source": [
    "Biased = BiasPmf(PMF, label='Biased')\n",
    "thinkplot.PrePlot(2)\n",
    "thinkplot.Pmfs([PMF, Biased])\n",
    "thinkplot.Config(xlabel='Number of children', ylabel='PMF')\n",
    "print(PMF.Mean())\n",
    "print(Biased.Mean())"
   ]
  },
  {
   "cell_type": "markdown",
   "metadata": {},
   "source": [
    "# 3-2"
   ]
  },
  {
   "cell_type": "markdown",
   "metadata": {},
   "source": [
    "### Write functions called PmfMean and PmfVar that take a Pmf object and compute the mean and variance. To test these methods, check that they are consistent with the methods Mean and Var provided by Pmf."
   ]
  },
  {
   "cell_type": "code",
   "execution_count": 5,
   "metadata": {},
   "outputs": [
    {
     "name": "stdout",
     "output_type": "stream",
     "text": [
      "1.024205155043831\n",
      "2.403679100664282\n",
      "1.4128643263531195\n",
      "1.1732721055059874\n"
     ]
    }
   ],
   "source": [
    "def PmfMean(pmf):\n",
    "    return sum(p * x for x, p in pmf.Items())\n",
    "\n",
    "def PmfVar(pmf, mu=None):\n",
    "    if mu is None:\n",
    "            mu = pmf.Mean()\n",
    "\n",
    "    return sum(p * (x-mu)**2 for x, p in pmf.Items())\n",
    "\n",
    "print(PmfMean(PMF))\n",
    "print(PmfMean(Biased))\n",
    "\n",
    "print(PmfVar(PMF))\n",
    "print(PmfVar(Biased))"
   ]
  },
  {
   "cell_type": "markdown",
   "metadata": {},
   "source": [
    "# 4-1"
   ]
  },
  {
   "cell_type": "code",
   "execution_count": 6,
   "metadata": {},
   "outputs": [
    {
     "name": "stdout",
     "output_type": "stream",
     "text": [
      "89.82048574445618\n"
     ]
    }
   ],
   "source": [
    "preg = nsfg.ReadFemPreg()\n",
    "live = preg[preg.outcome ==1]\n",
    "firsts = live[live.birthord == 1]\n",
    "others = live[live.birthord != 1]\n",
    "\n",
    "def PercentileRank(scores, your_score):\n",
    "    count = 0 \n",
    "    for score in scores:\n",
    "        if score <= your_score:\n",
    "            count += 1\n",
    "    \n",
    "    percentile_rank = 100 * count / len(scores)\n",
    "    return percentile_rank\n",
    "\n",
    "print(PercentileRank(others.birthwgt_lb, 8.69))"
   ]
  },
  {
   "cell_type": "markdown",
   "metadata": {},
   "source": [
    "### Discovering my percentile wasn't surprising, I knew I was a heavy baby at 8 lbs. 11 ounces. However I thought it was hilarious that I was supposed to call my mother and apologize if I was in the 90th or higher percentile but I was right on the edge at 89.8 so I didn't need to call and apologize. "
   ]
  },
  {
   "cell_type": "markdown",
   "metadata": {},
   "source": [
    "# 4-2"
   ]
  },
  {
   "cell_type": "code",
   "execution_count": 7,
   "metadata": {},
   "outputs": [
    {
     "data": {
      "image/png": "[encoded data removed]",
      "text/plain": [
       "<Figure size 432x288 with 1 Axes>"
      ]
     },
     "metadata": {
      "needs_background": "light"
     },
     "output_type": "display_data"
    }
   ],
   "source": [
    "rands = []\n",
    "for num in range(0,1000):\n",
    "    rands.append(round(random.random(),3))\n",
    "    \n",
    "randomPMF = thinkstats2.Pmf(rands)\n",
    "thinkplot.Pmf(randomPMF)\n",
    "thinkplot.Config(ylabel='PMF')"
   ]
  },
  {
   "cell_type": "markdown",
   "metadata": {},
   "source": [
    "### This PMF shows a pretty normal/uniform distribution with just a few numbers receiving higher probability than others. But overall, because the qunatity of random numbers is so high there is more uniformity. With more random data points there will be more uniformity."
   ]
  },
  {
   "cell_type": "code",
   "execution_count": 8,
   "metadata": {},
   "outputs": [
    {
     "data": {
      "image/png": "[encoded data removed]",
      "text/plain": [
       "<Figure size 432x288 with 1 Axes>"
      ]
     },
     "metadata": {
      "needs_background": "light"
     },
     "output_type": "display_data"
    }
   ],
   "source": [
    "randomCDF = thinkstats2.Cdf(rands)\n",
    "thinkplot.Cdf(randomCDF)\n",
    "thinkplot.Config(ylabel='CDF')"
   ]
  },
  {
   "cell_type": "markdown",
   "metadata": {},
   "source": [
    "### The CDF shows almost perfectly uniform distribution with a straight line."
   ]
  }
 ],
 "metadata": {
  "kernelspec": {
   "display_name": "Python 3",
   "language": "python",
   "name": "python3"
  },
  "language_info": {
   "codemirror_mode": {
    "name": "ipython",
    "version": 3
   },
   "file_extension": ".py",
   "mimetype": "text/x-python",
   "name": "python",
   "nbconvert_exporter": "python",
   "pygments_lexer": "ipython3",
   "version": "3.8.3"
  }
 },
 "nbformat": 4,
 "nbformat_minor": 4
}
