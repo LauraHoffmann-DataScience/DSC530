{
 "cells": [
  {
   "cell_type": "markdown",
   "metadata": {},
   "source": [
    "## Course: DSC530\n",
    "## Assignment: 5.2, Modeling Distributions and PDFs\n",
    "## Name: Laura Hoffmann\n",
    "## Date: 10/2/2020"
   ]
  },
  {
   "cell_type": "markdown",
   "metadata": {},
   "source": [
    "### Setup"
   ]
  },
  {
   "cell_type": "code",
   "execution_count": 1,
   "metadata": {},
   "outputs": [],
   "source": [
    "from __future__ import print_function, division\n",
    "\n",
    "import scipy.stats\n",
    "import thinkstats2\n",
    "import thinkplot\n",
    "import numpy as np\n",
    "import hinc\n",
    "#import hinc2"
   ]
  },
  {
   "cell_type": "markdown",
   "metadata": {},
   "source": [
    "# 5-1"
   ]
  },
  {
   "cell_type": "code",
   "execution_count": 2,
   "metadata": {},
   "outputs": [
    {
     "name": "stdout",
     "output_type": "stream",
     "text": [
      "0.34274683763147457\n"
     ]
    }
   ],
   "source": [
    "def intocm(inches):\n",
    "    cm = inches * 2.54\n",
    "    return cm\n",
    "\n",
    "mu = 178 # mean height (for males) in cm\n",
    "sigma = 7.7 # standard deviation (for males) in cm\n",
    "dist = scipy.stats.norm(loc=mu, scale=sigma)\n",
    "low = dist.cdf(intocm(70))\n",
    "high = dist.cdf(intocm(73))\n",
    "print(high-low)"
   ]
  },
  {
   "cell_type": "markdown",
   "metadata": {},
   "source": [
    "#### About 34% of males fall between 5'10\" and 6'1\" tall. That means that 34% of men could potentially join the Blue Man Group based on the simple requirements of being a man and being between 5'10\" and 6'1\"."
   ]
  },
  {
   "cell_type": "markdown",
   "metadata": {},
   "source": [
    "# 5-2"
   ]
  },
  {
   "cell_type": "code",
   "execution_count": 3,
   "metadata": {},
   "outputs": [
    {
     "name": "stdout",
     "output_type": "stream",
     "text": [
      "The mean height in Pareto World is 2.43 \bm\n",
      "About 77.87 \b% of people are shorter than the mean.\n",
      "Out of 7 billion people, about 55603.0 should be taller than 1km.\n",
      "We can expect the tallest person to be 618349.61 \bm tall, but that's outrageous.\n"
     ]
    },
    {
     "data": {
      "image/png": "[encoded data removed]",
      "text/plain": [
       "<Figure size 432x288 with 1 Axes>"
      ]
     },
     "metadata": {
      "needs_background": "light"
     },
     "output_type": "display_data"
    }
   ],
   "source": [
    "xmin = 1\n",
    "alpha = 1.7\n",
    "\n",
    "xs, ps = thinkstats2.RenderParetoCdf(xmin, alpha, 0, 10.0, n=100) \n",
    "thinkplot.Plot(xs, ps, label=r'$\\alpha=%g$' % alpha)\n",
    "thinkplot.Config(title='Pareto CDF', xlabel='height', ylabel='CDF')\n",
    "\n",
    "dist = scipy.stats.pareto(b=alpha, scale=xmin)\n",
    "print(\"The mean height in Pareto World is\", round(dist.mean(),2), \"\\bm\")\n",
    "print(\"About\", round(dist.cdf(dist.mean())*100,2), \"\\b% of people are shorter than the mean.\")\n",
    "print(\"Out of 7 billion people, about\", round((1 - dist.cdf(1000)) * 7e9, 0), \"should be taller than 1km.\")\n",
    "print(\"We can expect the tallest person to be\", round(dist.ppf(1 - 1/7e9),2), \"\\bm tall, but that's outrageous.\")"
   ]
  },
  {
   "cell_type": "markdown",
   "metadata": {},
   "source": [
    "# 6-1"
   ]
  },
  {
   "cell_type": "code",
   "execution_count": 4,
   "metadata": {},
   "outputs": [
    {
     "name": "stdout",
     "output_type": "stream",
     "text": [
      "***When log_upper = 6***\n",
      "The mean of the sample is 74278.71\n",
      "The median of the sample is 51226.45\n",
      "The skewness of the sample is 4.95\n",
      "The Pearson skewness of the sample is 0.74\n",
      "About 66.0% of households make a taxable income below the mean.\n",
      " \n",
      "***When log_upper = 7***\n",
      "The mean of the sample is 124267.4\n",
      "The median of the sample is 51226.45\n",
      "The skewness of the sample is 11.6\n",
      "The Pearson skewness of the sample is 0.39\n",
      "About 85.66% of households make a taxable income below the mean.\n",
      " \n"
     ]
    }
   ],
   "source": [
    "def RawMoment(xs, k):\n",
    "    return sum(x**k for x in xs) / len(xs)\n",
    "\n",
    "def Mean(xs):\n",
    "    return RawMoment(xs, 1)\n",
    "\n",
    "def Median(xs):\n",
    "    cdf = thinkstats2.Cdf(xs)\n",
    "    return cdf.Value(0.5)\n",
    "\n",
    "def CentralMoment(xs, k):\n",
    "    mean = RawMoment(xs, 1)\n",
    "    return sum((x - mean)**k for x in xs) / len(xs)\n",
    "\n",
    "def StandardizedMoment(xs, k):\n",
    "    var = CentralMoment(xs, 2)\n",
    "    std = np.sqrt(var)\n",
    "    return CentralMoment(xs, k) / std**k\n",
    "\n",
    "def Skewness(xs):\n",
    "    return StandardizedMoment(xs, 3)\n",
    "\n",
    "def PearsonMedianSkewness(xs):\n",
    "    median = Median(xs)\n",
    "    mean = RawMoment(xs, 1)\n",
    "    var = CentralMoment(xs, 2)\n",
    "    std = np.sqrt(var)\n",
    "    gp = 3 * (mean - median) / std\n",
    "    return gp\n",
    "\n",
    "def InterpolateSample(df, log_upper):\n",
    "    \n",
    "    df['log_upper'] = np.log10(df.income)\n",
    "\n",
    "    df['log_lower'] = df.log_upper.shift(1)\n",
    "    df.loc[0, 'log_lower'] = 3.0\n",
    "\n",
    "    df.loc[41, 'log_upper'] = log_upper\n",
    "    \n",
    "    arrays = []\n",
    "    for _, row in df.iterrows():\n",
    "        vals = np.linspace(row.log_lower, row.log_upper, int(row.freq))\n",
    "        arrays.append(vals)\n",
    "\n",
    "    log_sample = np.concatenate(arrays)\n",
    "    return log_sample\n",
    "\n",
    "\n",
    "income_df = hinc.ReadData()\n",
    "\n",
    "def printing_answers(log_upper):\n",
    "    log_sample = InterpolateSample(income_df, log_upper)\n",
    "    sample = np.power(10, log_sample)\n",
    "    cdf = thinkstats2.Cdf(sample)\n",
    "    print(\"The mean of the sample is\", round(Mean(sample),2))\n",
    "    print(\"The median of the sample is\", round(Median(sample),2))\n",
    "    print(\"The skewness of the sample is\", round(Skewness(sample),2))\n",
    "    print(\"The Pearson skewness of the sample is\", round(PearsonMedianSkewness(sample),2))\n",
    "    percent = cdf.Prob(Mean(sample))\n",
    "    print(\"About\", round(percent*100,2), \"\\b% of households make a taxable income below the mean.\")\n",
    "    print(\" \")\n",
    "    \n",
    "print(\"***When log_upper = 6***\")\n",
    "printing_answers(6.0)\n",
    "\n",
    "print(\"***When log_upper = 7***\")\n",
    "printing_answers(7.0)\n"
   ]
  }
 ],
 "metadata": {
  "kernelspec": {
   "display_name": "Python 3",
   "language": "python",
   "name": "python3"
  },
  "language_info": {
   "codemirror_mode": {
    "name": "ipython",
    "version": 3
   },
   "file_extension": ".py",
   "mimetype": "text/x-python",
   "name": "python",
   "nbconvert_exporter": "python",
   "pygments_lexer": "ipython3",
   "version": "3.8.3"
  }
 },
 "nbformat": 4,
 "nbformat_minor": 4
}
